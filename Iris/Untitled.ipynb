{
 "cells": [
  {
   "cell_type": "code",
   "execution_count": 1,
   "id": "ec0f212f-896a-4ea6-be5b-59fa5895445e",
   "metadata": {},
   "outputs": [
    {
     "data": {
      "text/plain": [
       "('data.zip', <http.client.HTTPMessage at 0x28440c5f400>)"
      ]
     },
     "execution_count": 1,
     "metadata": {},
     "output_type": "execute_result"
    }
   ],
   "source": [
    "import urllib.request\n",
    "\n",
    "# descarga el fichero\n",
    "urllib.request.urlretrieve('https://archive.ics.uci.edu/static/public/53/iris.zip', 'data.zip')"
   ]
  },
  {
   "cell_type": "code",
   "execution_count": 3,
   "id": "62be7e32-6dc8-45d0-9fc1-2b035b002122",
   "metadata": {},
   "outputs": [
    {
     "name": "stderr",
     "output_type": "stream",
     "text": [
      "Ya existe el subdirectorio o el archivo data.\n",
      "\"unzip\" no se reconoce como un comando interno o externo,\n",
      "programa o archivo por lotes ejecutable.\n"
     ]
    }
   ],
   "source": [
    "!mkdir data"
   ]
  },
  {
   "cell_type": "code",
   "execution_count": 4,
   "id": "0157b75d-0901-4acc-802e-cab02bc9cc3e",
   "metadata": {},
   "outputs": [
    {
     "name": "stdout",
     "output_type": "stream",
     "text": [
      "¡Extracción completada!\n"
     ]
    }
   ],
   "source": [
    "import zipfile\n",
    "import os\n",
    "\n",
    "# Ruta del archivo ZIP y la carpeta de destino\n",
    "archivo_zip = 'data.zip'\n",
    "carpeta_destino = 'data'\n",
    "\n",
    "# Si la carpeta de destino no existe, créala\n",
    "if not os.path.exists(carpeta_destino):\n",
    "    os.makedirs(carpeta_destino)\n",
    "\n",
    "# Extraer el archivo ZIP\n",
    "with zipfile.ZipFile(archivo_zip, 'r') as zip_ref:\n",
    "    zip_ref.extractall(carpeta_destino)\n",
    "\n",
    "print(\"¡Extracción completada!\")"
   ]
  },
  {
   "cell_type": "code",
   "execution_count": 7,
   "id": "e18ad83d-cd7f-4148-8781-77d4c5b88521",
   "metadata": {},
   "outputs": [
    {
     "ename": "ModuleNotFoundError",
     "evalue": "No module named 'pandas'",
     "output_type": "error",
     "traceback": [
      "\u001b[1;31m---------------------------------------------------------------------------\u001b[0m",
      "\u001b[1;31mModuleNotFoundError\u001b[0m                       Traceback (most recent call last)",
      "Cell \u001b[1;32mIn[7], line 1\u001b[0m\n\u001b[1;32m----> 1\u001b[0m \u001b[38;5;28;01mimport\u001b[39;00m \u001b[38;5;21;01mpandas\u001b[39;00m \u001b[38;5;28;01mas\u001b[39;00m \u001b[38;5;21;01mpd\u001b[39;00m\n\u001b[0;32m      2\u001b[0m pd\u001b[38;5;241m.\u001b[39mread_csv(\u001b[38;5;124m'\u001b[39m\u001b[38;5;124mdata/iris.data\u001b[39m\u001b[38;5;124m'\u001b[39m, header\u001b[38;5;241m=\u001b[39m\u001b[38;5;28;01mNone\u001b[39;00m)\n",
      "\u001b[1;31mModuleNotFoundError\u001b[0m: No module named 'pandas'"
     ]
    }
   ],
   "source": [
    "import pandas as pd\n",
    "pd.read_csv('data/iris.data', header=None)"
   ]
  },
  {
   "cell_type": "code",
   "execution_count": null,
   "id": "26e37d7a-a6dc-4bee-b8d9-e57cd27958b6",
   "metadata": {},
   "outputs": [],
   "source": []
  }
 ],
 "metadata": {
  "kernelspec": {
   "display_name": "Python 3 (ipykernel)",
   "language": "python",
   "name": "python3"
  },
  "language_info": {
   "codemirror_mode": {
    "name": "ipython",
    "version": 3
   },
   "file_extension": ".py",
   "mimetype": "text/x-python",
   "name": "python",
   "nbconvert_exporter": "python",
   "pygments_lexer": "ipython3",
   "version": "3.9.0"
  }
 },
 "nbformat": 4,
 "nbformat_minor": 5
}
